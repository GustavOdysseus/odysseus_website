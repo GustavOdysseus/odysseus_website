{
 "cells": [
  {
   "cell_type": "markdown",
   "metadata": {},
   "source": [
    "# Configuração Básica do AgentOps\n",
    "\n",
    "Este notebook demonstra como configurar e começar a usar o AgentOps em seu projeto."
   ]
  },
  {
   "cell_type": "code",
   "execution_count": null,
   "metadata": {},
   "source": [
    "# Instalação do AgentOps\n",
    "!pip install agentops"
   ]
  },
  {
   "cell_type": "code",
   "execution_count": null,
   "metadata": {},
   "source": [
    "from agentops import Client\n",
    "\n",
    "# Inicialização do cliente\n",
    "client = Client()\n",
    "\n",
    "# Configuração básica\n",
    "client.configure(\n",
    "    api_key=\"sua_api_key\",  # Substitua pela sua chave API\n",
    "    instrument_llm_calls=True,\n",
    "    auto_start_session=True\n",
    ")"
   ]
  },
  {
   "cell_type": "markdown",
   "metadata": {},
   "source": [
    "## Criando Eventos Personalizados\n",
    "\n",
    "Demonstração de como criar e registrar diferentes tipos de eventos."
   ]
  },
  {
   "cell_type": "code",
   "execution_count": null,
   "metadata": {},
   "source": [
    "# Exemplo de Action Event\n",
    "client.record_action(\n",
    "    name=\"exemplo_acao\",\n",
    "    params={\"parametro1\": \"valor1\"},\n",
    "    returns=\"resultado\"\n",
    ")"
   ]
  },
  {
   "cell_type": "code",
   "execution_count": null,
   "metadata": {},
   "source": [
    "# Exemplo de Tool Event\n",
    "client.record_tool(\n",
    "    name=\"ferramenta_exemplo\",\n",
    "    params={\"input\": \"dados\"},\n",
    "    returns=\"resultado da ferramenta\"\n",
    ")"
   ]
  },
  {
   "cell_type": "markdown",
   "metadata": {},
   "source": [
    "## Monitoramento de Erros\n",
    "\n",
    "Como capturar e registrar erros automaticamente."
   ]
  },
  {
   "cell_type": "code",
   "execution_count": null,
   "metadata": {},
   "source": [
    "try:\n",
    "    # Código que pode gerar erro\n",
    "    raise ValueError(\"Erro de exemplo\")\n",
    "except Exception as e:\n",
    "    client.record_error(\n",
    "        error=e,\n",
    "        details={\"contexto\": \"teste de erro\"}\n",
    "    )"
   ]
  }
 ],
 "metadata": {
  "kernelspec": {
   "display_name": "Python 3",
   "language": "python",
   "name": "python3"
  },
  "language_info": {
   "codemirror_mode": {
    "name": "ipython",
    "version": 3
   },
   "file_extension": ".py",
   "mimetype": "text/x-python",
   "name": "python",
   "nbconvert_exporter": "python",
   "pygments_lexer": "ipython3",
   "version": "3.8.0"
  }
 },
 "nbformat": 4,
 "nbformat_minor": 4
}
