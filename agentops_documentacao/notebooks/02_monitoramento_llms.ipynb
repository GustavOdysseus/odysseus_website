{
 "cells": [
  {
   "cell_type": "markdown",
   "metadata": {},
   "source": [
    "# Monitoramento de LLMs com AgentOps\n",
    "\n",
    "Este notebook demonstra como utilizar o sistema de monitoramento de LLMs do AgentOps com diferentes provedores."
   ]
  },
  {
   "cell_type": "code",
   "execution_count": null,
   "metadata": {},
   "source": [
    "from agentops import Client\n",
    "\n",
    "# Configuração inicial\n",
    "client = Client()\n",
    "client.configure(\n",
    "    api_key=\"sua_api_key\",\n",
    "    instrument_llm_calls=True\n",
    ")"
   ]
  },
  {
   "cell_type": "markdown",
   "metadata": {},
   "source": [
    "## 1. Monitoramento com OpenAI"
   ]
  },
  {
   "cell_type": "code",
   "execution_count": null,
   "metadata": {},
   "source": [
    "from openai import OpenAI\n",
    "\n",
    "openai_client = OpenAI()\n",
    "response = openai_client.chat.completions.create(\n",
    "    model=\"gpt-3.5-turbo\",\n",
    "    messages=[{\"role\": \"user\", \"content\": \"Olá, como você está?\"}]\n",
    ")\n",
    "\n",
    "# O AgentOps captura automaticamente esta chamada"
   ]
  },
  {
   "cell_type": "markdown",
   "metadata": {},
   "source": [
    "## 2. Monitoramento com Anthropic"
   ]
  },
  {
   "cell_type": "code",
   "execution_count": null,
   "metadata": {},
   "source": [
    "from anthropic import Anthropic\n",
    "\n",
    "anthropic = Anthropic()\n",
    "response = anthropic.messages.create(\n",
    "    model=\"claude-3-opus-20240229\",\n",
    "    messages=[{\"role\": \"user\", \"content\": \"Olá Claude!\"}]\n",
    ")\n",
    "\n",
    "# O AgentOps captura automaticamente esta chamada"
   ]
  },
  {
   "cell_type": "markdown",
   "metadata": {},
   "source": [
    "## 3. Monitoramento Personalizado"
   ]
  },
  {
   "cell_type": "code",
   "execution_count": null,
   "metadata": {},
   "source": [
    "# Registro manual de eventos LLM\n",
    "client.record_llm(\n",
    "    prompt=\"Qual é a capital do Brasil?\",\n",
    "    completion=\"A capital do Brasil é Brasília.\",\n",
    "    model=\"gpt-4\",\n",
    "    tags=[\"geografia\", \"teste\"],\n",
    "    custom_metrics={\n",
    "        \"confianca\": 0.98,\n",
    "        \"tempo_resposta\": 0.5\n",
    "    }\n",
    ")"
   ]
  },
  {
   "cell_type": "markdown",
   "metadata": {},
   "source": [
    "## 4. Análise de Métricas"
   ]
  },
  {
   "cell_type": "code",
   "execution_count": null,
   "metadata": {},
   "source": [
    "# Exemplo de como acessar métricas\n",
    "from agentops.session import active_sessions\n",
    "\n",
    "# Obtém a sessão atual\n",
    "current_session = active_sessions[-1]\n",
    "\n",
    "# Exibe eventos da sessão\n",
    "for event in current_session.events:\n",
    "    if event.event_type == \"llm\":\n",
    "        print(f\"Modelo: {event.model}\")\n",
    "        print(f\"Prompt: {event.prompt}\")\n",
    "        print(f\"Resposta: {event.completion}\")\n",
    "        print(\"---\")"
   ]
  },
  {
   "cell_type": "markdown",
   "metadata": {},
   "source": [
    "## 5. Tratamento de Erros"
   ]
  },
  {
   "cell_type": "code",
   "execution_count": null,
   "metadata": {},
   "source": [
    "try:\n",
    "    # Simulando uma chamada que pode falhar\n",
    "    response = openai_client.chat.completions.create(\n",
    "        model=\"modelo-inexistente\",\n",
    "        messages=[{\"role\": \"user\", \"content\": \"Teste\"}]\n",
    "    )\n",
    "except Exception as e:\n",
    "    # O AgentOps captura automaticamente o erro\n",
    "    print(f\"Erro capturado: {str(e)}\")"
   ]
  }
 ],
 "metadata": {
  "kernelspec": {
   "display_name": "Python 3",
   "language": "python",
   "name": "python3"
  },
  "language_info": {
   "codemirror_mode": {
    "name": "ipython",
    "version": 3
   },
   "file_extension": ".py",
   "mimetype": "text/x-python",
   "name": "python",
   "nbconvert_exporter": "python",
   "pygments_lexer": "ipython3",
   "version": "3.8.0"
  }
 },
 "nbformat": 4,
 "nbformat_minor": 4
}
