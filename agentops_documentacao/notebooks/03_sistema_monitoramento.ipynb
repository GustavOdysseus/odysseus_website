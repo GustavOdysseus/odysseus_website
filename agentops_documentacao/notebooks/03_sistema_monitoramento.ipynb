{
 "cells": [
  {
   "cell_type": "markdown",
   "metadata": {},
   "source": [
    "# Sistema de Monitoramento AgentOps\n",
    "\n",
    "Este notebook demonstra como utilizar o sistema completo de monitoramento do AgentOps."
   ]
  },
  {
   "cell_type": "code",
   "execution_count": null,
   "metadata": {},
   "source": [
    "from agentops import Client\n",
    "from agentops.session import active_sessions\n",
    "\n",
    "# Inicialização\n",
    "client = Client()\n",
    "client.configure(\n",
    "    api_key=\"sua_api_key\",\n",
    "    instrument_llm_calls=True\n",
    ")"
   ]
  },
  {
   "cell_type": "markdown",
   "metadata": {},
   "source": [
    "## 1. Gerenciamento de Sessões"
   ]
  },
  {
   "cell_type": "code",
   "execution_count": null,
   "metadata": {},
   "source": [
    "# Iniciando uma nova sessão\n",
    "client.start_session(\n",
    "    tags=[\"demo\", \"notebook\"],\n",
    "    custom_metrics={\"ambiente\": \"desenvolvimento\"}\n",
    ")\n",
    "\n",
    "# Verificando sessões ativas\n",
    "print(f\"Sessões ativas: {len(active_sessions)}\")\n",
    "for session in active_sessions:\n",
    "    print(f\"ID: {session.session_id}\")\n",
    "    print(f\"Tags: {session.tags}\")\n",
    "    print(f\"Início: {session.init_timestamp}\")\n",
    "    print(\"---\")"
   ]
  },
  {
   "cell_type": "markdown",
   "metadata": {},
   "source": [
    "## 2. Registro de Eventos"
   ]
  },
  {
   "cell_type": "code",
   "execution_count": null,
   "metadata": {},
   "source": [
    "# Registrando diferentes tipos de eventos\n",
    "\n",
    "# Action Event\n",
    "client.record_action(\n",
    "    name=\"processar_dados\",\n",
    "    params={\"arquivo\": \"dados.csv\"},\n",
    "    returns=\"Processamento concluído\"\n",
    ")\n",
    "\n",
    "# Tool Event\n",
    "client.record_tool(\n",
    "    name=\"analisador\",\n",
    "    params={\"tipo\": \"análise_sentimento\"},\n",
    "    returns={\"sentimento\": \"positivo\", \"score\": 0.85}\n",
    ")\n",
    "\n",
    "# Error Event\n",
    "try:\n",
    "    raise ValueError(\"Erro de exemplo\")\n",
    "except Exception as e:\n",
    "    client.record_error(\n",
    "        error=e,\n",
    "        details={\"contexto\": \"teste de erro\"}\n",
    "    )"
   ]
  },
  {
   "cell_type": "markdown",
   "metadata": {},
   "source": [
    "## 3. Métricas Customizadas"
   ]
  },
  {
   "cell_type": "code",
   "execution_count": null,
   "metadata": {},
   "source": [
    "# Registrando métricas personalizadas\n",
    "client.record_metrics({\n",
    "    \"tempo_processamento\": 1.5,\n",
    "    \"memoria_utilizada\": \"750MB\",\n",
    "    \"acuracia\": 0.92\n",
    "})\n",
    "\n",
    "# Verificando métricas da sessão atual\n",
    "current_session = active_sessions[-1]\n",
    "print(\"Métricas da sessão:\")\n",
    "print(f\"Token Cost: {current_session.token_cost}\")\n",
    "print(f\"Event Counts: {current_session.event_counts}\")"
   ]
  },
  {
   "cell_type": "markdown",
   "metadata": {},
   "source": [
    "## 4. Análise de Eventos"
   ]
  },
  {
   "cell_type": "code",
   "execution_count": null,
   "metadata": {},
   "source": [
    "# Analisando eventos da sessão\n",
    "def analyze_events(session):\n",
    "    print(f\"Análise da Sessão {session.session_id}\")\n",
    "    print(\"\\nContagem de Eventos:\")\n",
    "    for event_type, count in session.event_counts.items():\n",
    "        print(f\"{event_type}: {count}\")\n",
    "    \n",
    "    print(\"\\nÚltimos Eventos:\")\n",
    "    for event in session.events[-5:]:\n",
    "        print(f\"Tipo: {event.event_type}\")\n",
    "        print(f\"Timestamp: {event.init_timestamp}\")\n",
    "        print(\"---\")\n",
    "\n",
    "analyze_events(current_session)"
   ]
  },
  {
   "cell_type": "markdown",
   "metadata": {},
   "source": [
    "## 5. Finalizando a Sessão"
   ]
  },
  {
   "cell_type": "code",
   "execution_count": null,
   "metadata": {},
   "source": [
    "# Finalizando a sessão com status\n",
    "client.end_session(\n",
    "    end_state=\"Success\",\n",
    "    end_state_reason=\"Demonstração completa\"\n",
    ")\n",
    "\n",
    "# Verificando status final\n",
    "print(f\"Estado final: {current_session.end_state}\")\n",
    "print(f\"Razão: {current_session.end_state_reason}\")\n",
    "print(f\"Timestamp final: {current_session.end_timestamp}\")"
   ]
  }
 ],
 "metadata": {
  "kernelspec": {
   "display_name": "Python 3",
   "language": "python",
   "name": "python3"
  },
  "language_info": {
   "codemirror_mode": {
    "name": "ipython",
    "version": 3
   },
   "file_extension": ".py",
   "mimetype": "text/x-python",
   "name": "python",
   "nbconvert_exporter": "python",
   "pygments_lexer": "ipython3",
   "version": "3.8.0"
  }
 },
 "nbformat": 4,
 "nbformat_minor": 4
}
