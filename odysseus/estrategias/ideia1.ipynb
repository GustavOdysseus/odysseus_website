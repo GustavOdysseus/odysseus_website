{
 "cells": [
  {
   "cell_type": "code",
   "execution_count": 4,
   "metadata": {},
   "outputs": [],
   "source": [
    "#import vectorbtpro as vbt\n",
    "from vectorbtpro import *\n",
    "import os\n",
    "import numpy as np\n",
    "import talib\n",
    "from numba import njit\n"
   ]
  },
  {
   "cell_type": "code",
   "execution_count": null,
   "metadata": {},
   "outputs": [],
   "source": [
    "pip list"
   ]
  },
  {
   "cell_type": "markdown",
   "metadata": {},
   "source": [
    "# CONFIGURAÇÃO\n"
   ]
  },
  {
   "cell_type": "code",
   "execution_count": 6,
   "metadata": {},
   "outputs": [],
   "source": [
    "vbt.settings.execution.engine = 'serial'\n",
    "\n",
    "'''\n",
    "# Configurações válidas de caching e chunking\n",
    "vbt.settings.caching.update({\n",
    "    'disable': False,\n",
    "    'use_cached_accessors': True\n",
    "})\n",
    "\n",
    "vbt.settings.execution.update({\n",
    "    'cache_chunks': True,\n",
    "    'chunk_cache_dir': \"cache_chunks\",\n",
    "    'release_chunk_cache': True\n",
    "})\n",
    "'''\n",
    "vbt.settings.set_theme(\"dark\")"
   ]
  },
  {
   "cell_type": "markdown",
   "metadata": {},
   "source": [
    "# CARREGAR DADOS\n"
   ]
  },
  {
   "cell_type": "code",
   "execution_count": null,
   "metadata": {},
   "outputs": [],
   "source": [
    "# Carregando os dados de preços usando SerialEngine\n",
    "DB_PATH = \"odysseus/forex_market.duckdb\"\n",
    "symbols = ['EURUSD', 'GBPUSD']\n",
    "tables = vbt.DuckDBData.list_tables(connection=DB_PATH)\n",
    "print(\"Ativos disponíveis:\")\n",
    "print(tables)\n",
    "data = vbt.DuckDBData.from_duckdb(symbols, start=\"2013-01-01\", connection=DB_PATH)\n",
    "print(data.close)\n",
    "print(data.stats())\n"
   ]
  },
  {
   "cell_type": "code",
   "execution_count": null,
   "metadata": {},
   "outputs": [],
   "source": [
    "%pwd"
   ]
  },
  {
   "cell_type": "markdown",
   "metadata": {},
   "source": [
    "# RESAMPLE\n"
   ]
  },
  {
   "cell_type": "code",
   "execution_count": null,
   "metadata": {},
   "outputs": [],
   "source": [
    "time_frames = [1, 4, 24]\n",
    "freqs = [f'{tf}h' for tf in time_frames]\n",
    "h1_data = data.resample(\"1h\")\n",
    "h1_close = h1_data.close\n",
    "h4_data = data.resample(\"4h\")\n",
    "h4_close = h4_data.close\n",
    "h24_data = data.resample(\"24h\")\n",
    "h24_close = h24_data.close\n",
    "\n",
    "print(h1_data.stats())\n",
    "h24_data.data['EURUSD'].vbt.ohlcv.plot().show()\n",
    "h24_close.vbt.plot().show()"
   ]
  },
  {
   "cell_type": "code",
   "execution_count": null,
   "metadata": {},
   "outputs": [],
   "source": [
    "simbolo = symbols[0]\n",
    "print(symbols)\n",
    "h24_data.data[simbolo].vbt.ohlcv.plot().show()"
   ]
  },
  {
   "cell_type": "markdown",
   "metadata": {},
   "source": [
    "# Indicador de tendência"
   ]
  },
  {
   "cell_type": "code",
   "execution_count": 11,
   "metadata": {},
   "outputs": [],
   "source": [
    "high = h24_data.high.ffill().bfill()\n",
    "low = h24_data.low.ffill().bfill()\n",
    "close = h24_close.ffill().bfill()"
   ]
  },
  {
   "cell_type": "code",
   "execution_count": 12,
   "metadata": {},
   "outputs": [],
   "source": [
    "def get_basic_bands(med_price, atr, multiplier):\n",
    "    matr = multiplier * atr\n",
    "    upper = med_price + matr\n",
    "    lower = med_price - matr\n",
    "    return upper, lower"
   ]
  },
  {
   "cell_type": "code",
   "execution_count": 13,
   "metadata": {},
   "outputs": [],
   "source": [
    "@njit\n",
    "def get_final_bands_nb(close, upper, lower):\n",
    "    trend = np.full(close.shape, np.nan)\n",
    "    dir_ = np.full(close.shape, 1)\n",
    "    long = np.full(close.shape, np.nan)\n",
    "    short = np.full(close.shape, np.nan)\n",
    "\n",
    "    for i in range(1, close.shape[0]):\n",
    "        if close[i] > upper[i - 1]:\n",
    "            dir_[i] = 1\n",
    "        elif close[i] < lower[i - 1]:\n",
    "            dir_[i] = -1\n",
    "        else:\n",
    "            dir_[i] = dir_[i - 1]\n",
    "            if dir_[i] > 0 and lower[i] < lower[i - 1]:\n",
    "                lower[i] = lower[i - 1]\n",
    "            if dir_[i] < 0 and upper[i] > upper[i - 1]:\n",
    "                upper[i] = upper[i - 1]\n",
    "\n",
    "        if dir_[i] > 0:\n",
    "            trend[i] = long[i] = lower[i]\n",
    "        else:\n",
    "            trend[i] = short[i] = upper[i]\n",
    "            \n",
    "    return trend, dir_, long, short"
   ]
  },
  {
   "cell_type": "code",
   "execution_count": 14,
   "metadata": {},
   "outputs": [],
   "source": [
    "def faster_supertrend_talib(high, low, close, period=7, multiplier=3):\n",
    "    avg_price = talib.MEDPRICE(high, low)\n",
    "    atr = talib.ATR(high, low, close, period)\n",
    "    upper, lower = get_basic_bands(avg_price, atr, multiplier)\n",
    "    return get_final_bands_nb(close, upper, lower)"
   ]
  },
  {
   "cell_type": "code",
   "execution_count": null,
   "metadata": {},
   "outputs": [],
   "source": [
    "# Executando o faster_supertrend_talib\n",
    "trend, dir_, long, short = faster_supertrend_talib(\n",
    "    high['EURUSD'].values, \n",
    "    low['EURUSD'].values, \n",
    "    close['EURUSD'].values\n",
    ")\n",
    "\n",
    "\n",
    "valid_mask = np.isfinite(trend)\n",
    "print(\"Valores válidos do trend:\")\n",
    "print(trend[valid_mask])\n",
    "print(len(trend[valid_mask]))\n",
    "print(\"\\nDireção correspondente:\")\n",
    "print(dir_[valid_mask])\n",
    "print(len(dir_[valid_mask]))\n",
    "print(\"\\nValores long válidos:\")\n",
    "print(long[np.isfinite(long)])\n",
    "print(len(long[valid_mask]))\n",
    "print(\"\\nValores short válidos:\")\n",
    "print(short[np.isfinite(short)])\n",
    "print(len(short[valid_mask]))"
   ]
  },
  {
   "cell_type": "code",
   "execution_count": 16,
   "metadata": {},
   "outputs": [],
   "source": [
    "SuperTrend = vbt.IF(\n",
    "    class_name='SuperTrend',\n",
    "    short_name='st',\n",
    "    input_names=['high', 'low', 'close'],\n",
    "    param_names=['period', 'multiplier'],\n",
    "    output_names=['supert', 'superd', 'superl', 'supers']\n",
    ").with_apply_func(\n",
    "    faster_supertrend_talib, \n",
    "    takes_1d=True,\n",
    "    period=7, \n",
    "    multiplier=3\n",
    ")"
   ]
  },
  {
   "cell_type": "code",
   "execution_count": 17,
   "metadata": {},
   "outputs": [],
   "source": [
    "class SuperTrend(SuperTrend):\n",
    "    def plot(self, \n",
    "             column=None, \n",
    "             close_kwargs=None,\n",
    "             superl_kwargs=None,\n",
    "             supers_kwargs=None,\n",
    "             fig=None, \n",
    "             **layout_kwargs):\n",
    "        close_kwargs = close_kwargs if close_kwargs else {}\n",
    "        superl_kwargs = superl_kwargs if superl_kwargs else {}\n",
    "        supers_kwargs = supers_kwargs if supers_kwargs else {}\n",
    "        \n",
    "        close = self.select_col_from_obj(self.close, column).rename('Close')\n",
    "        supers = self.select_col_from_obj(self.supers, column).rename('Short')\n",
    "        superl = self.select_col_from_obj(self.superl, column).rename('Long')\n",
    "        \n",
    "        fig = close.vbt.plot(fig=fig, **close_kwargs, **layout_kwargs)\n",
    "        supers.vbt.plot(fig=fig, **supers_kwargs)\n",
    "        superl.vbt.plot(fig=fig, **superl_kwargs)\n",
    "        \n",
    "        return fig"
   ]
  },
  {
   "cell_type": "markdown",
   "metadata": {},
   "source": [
    "## Otimização"
   ]
  },
  {
   "cell_type": "code",
   "execution_count": 18,
   "metadata": {},
   "outputs": [],
   "source": [
    "periods = np.arange(80, 101)\n",
    "multipliers = np.arange(50, 71) / 10"
   ]
  },
  {
   "cell_type": "code",
   "execution_count": null,
   "metadata": {},
   "outputs": [],
   "source": [
    "st = SuperTrend.run(\n",
    "    high, low, close, \n",
    "    period=periods, \n",
    "    multiplier=multipliers,\n",
    "    param_product=True,\n",
    ")\n",
    "print(st.supert.dropna())"
   ]
  },
  {
   "cell_type": "code",
   "execution_count": null,
   "metadata": {},
   "outputs": [],
   "source": [
    "# Escolha um período e multiplicador específico\n",
    "periodos = [periods[0], periods[-1]]\n",
    "multiplicadores = [multipliers[0], multipliers[-1]]\n",
    "\n",
    "# Criando todas as combinações possíveis\n",
    "combinacoes = [\n",
    "    (periodos[0], multiplicadores[0]),  # (4, 2.0)\n",
    "    (periodos[0], multiplicadores[-1]), # (4, 4.0)\n",
    "    (periodos[-1], multiplicadores[0]), # (19, 2.0)\n",
    "    (periodos[-1], multiplicadores[-1]) # (19, 4.0)\n",
    "]\n",
    "\n",
    "# Plotando cada combinação separadamente\n",
    "for periodo, multiplicador in combinacoes:\n",
    "    st.plot(\n",
    "        column=(periodo, multiplicador, 'EURUSD'),\n",
    "        superl_kwargs=dict(trace_kwargs=dict(line_color='limegreen')),\n",
    "        supers_kwargs=dict(trace_kwargs=dict(line_color='red')),\n",
    "        title=f'SuperTrend - Período: {periodo}, Multiplicador: {multiplicador}'\n",
    "    ).show()"
   ]
  },
  {
   "cell_type": "markdown",
   "metadata": {},
   "source": [
    "# Backtesting"
   ]
  },
  {
   "cell_type": "code",
   "execution_count": 21,
   "metadata": {},
   "outputs": [],
   "source": [
    "class SuperTrend(SuperTrend):\n",
    "    def plot(self, \n",
    "             column=None, \n",
    "             close_kwargs=None,\n",
    "             superl_kwargs=None,\n",
    "             supers_kwargs=None,\n",
    "             plot_signals=True,\n",
    "             pf=None,\n",
    "             fig=None, \n",
    "             **layout_kwargs):\n",
    "        # Remove plot_signals dos layout_kwargs para não causar erro\n",
    "        if 'plot_signals' in layout_kwargs:\n",
    "            del layout_kwargs['plot_signals']\n",
    "            \n",
    "        close_kwargs = close_kwargs if close_kwargs else {}\n",
    "        superl_kwargs = superl_kwargs if superl_kwargs else {}\n",
    "        supers_kwargs = supers_kwargs if supers_kwargs else {}\n",
    "        \n",
    "        close = self.select_col_from_obj(self.close, column).rename('Close')\n",
    "        supers = self.select_col_from_obj(self.supers, column).rename('Short')\n",
    "        superl = self.select_col_from_obj(self.superl, column).rename('Long')\n",
    "        \n",
    "        # Cria o gráfico base\n",
    "        fig = close.vbt.plot(fig=fig, **close_kwargs, **layout_kwargs)\n",
    "        \n",
    "        # Adiciona as linhas do SuperTrend\n",
    "        supers.vbt.plot(fig=fig, **supers_kwargs)\n",
    "        superl.vbt.plot(fig=fig, **superl_kwargs)\n",
    "        \n",
    "        # Adiciona os sinais de entrada/saída se solicitado\n",
    "        if plot_signals and pf is not None:\n",
    "            fig = pf.plot_trade_signals(column=column, fig=fig)\n",
    "        \n",
    "        return fig"
   ]
  },
  {
   "cell_type": "code",
   "execution_count": 22,
   "metadata": {},
   "outputs": [],
   "source": [
    "entries = (~st.superl.isnull()).vbt.signals.fshift()\n",
    "exits = (~st.supers.isnull()).vbt.signals.fshift()"
   ]
  },
  {
   "cell_type": "code",
   "execution_count": 23,
   "metadata": {},
   "outputs": [],
   "source": [
    "pf = vbt.Portfolio.from_signals(close, entries, exits, init_cash=100, fees=0.001, freq='1D')"
   ]
  },
  {
   "cell_type": "code",
   "execution_count": null,
   "metadata": {},
   "outputs": [],
   "source": [
    "print(symbols)\n",
    "pf.final_value.vbt.heatmap(\n",
    "    x_level='st_period', \n",
    "    y_level='st_multiplier',\n",
    "    slider_level='symbol'\n",
    ").show()"
   ]
  },
  {
   "cell_type": "code",
   "execution_count": null,
   "metadata": {},
   "outputs": [],
   "source": [
    "vbt.Portfolio.from_holding(close, freq='1D').final_value"
   ]
  },
  {
   "cell_type": "code",
   "execution_count": null,
   "metadata": {},
   "outputs": [],
   "source": [
    "st = SuperTrend.run(\n",
    "    high, low, close, \n",
    "    period=91, \n",
    "    multiplier=6.1,\n",
    "    param_product=True,\n",
    ")\n",
    "print(st.supert.dropna())"
   ]
  },
  {
   "cell_type": "code",
   "execution_count": null,
   "metadata": {},
   "outputs": [],
   "source": [
    "entries = (~st.superl.isnull()).vbt.signals.fshift()\n",
    "exits = (~st.supers.isnull()).vbt.signals.fshift()\n",
    "\n",
    "print(entries)\n",
    "print(exits)"
   ]
  },
  {
   "cell_type": "code",
   "execution_count": 28,
   "metadata": {},
   "outputs": [],
   "source": [
    "pf = vbt.Portfolio.from_signals(close, entries, exits, init_cash=100, fees=0.001, freq='1D')"
   ]
  },
  {
   "cell_type": "code",
   "execution_count": null,
   "metadata": {},
   "outputs": [],
   "source": [
    "periodo = 91\n",
    "multiplicador = 6.1\n",
    "\n",
    "# Plotando cada simbolo separadamente\n",
    "for simbolo in symbols:\n",
    "    st.plot(\n",
    "        column=(periodo, multiplicador, simbolo),\n",
    "        superl_kwargs=dict(trace_kwargs=dict(line_color='limegreen')),\n",
    "        supers_kwargs=dict(trace_kwargs=dict(line_color='red')),\n",
    "        title=f'SuperTrend - Período: {periodo}, Multiplicador: {multiplicador}'\n",
    "    ).show()"
   ]
  },
  {
   "cell_type": "markdown",
   "metadata": {},
   "source": [
    "#Separar a série quando o atr é 1 e quando é -1"
   ]
  },
  {
   "cell_type": "code",
   "execution_count": 30,
   "metadata": {},
   "outputs": [],
   "source": [
    "alta = (~st.superl.isnull()).vbt.signals.fshift()\n",
    "baixa = (~st.supers.isnull()).vbt.signals.fshift()"
   ]
  },
  {
   "cell_type": "code",
   "execution_count": null,
   "metadata": {},
   "outputs": [],
   "source": [
    "# Reorganizar os sinais para facilitar o acesso\n",
    "alta_mask = alta.loc[:, (periodo, multiplicador, slice(None))].droplevel([0,1], axis=1)\n",
    "baixa_mask = baixa.loc[:, (periodo, multiplicador, slice(None))].droplevel([0,1], axis=1)\n",
    "\n",
    "for simbolo in symbols:\n",
    "    # Dados OHLC para tendência de alta\n",
    "    alta_ohlc = h24_data.data[simbolo].copy()\n",
    "    alta_ohlc.loc[~alta_mask[simbolo]] = np.nan\n",
    "    \n",
    "    # Dados OHLC para tendência de baixa\n",
    "    baixa_ohlc = h24_data.data[simbolo].copy()\n",
    "    baixa_ohlc.loc[~baixa_mask[simbolo]] = np.nan\n",
    "\n",
    "    \n",
    "    \n",
    "    # Plotar tendência de alta\n",
    "    alta_ohlc.vbt.ohlcv.plot(\n",
    "        title=f'{simbolo} - Períodos de Tendência de Alta'\n",
    "    ).show()\n",
    "    \n",
    "    # Plotar tendência de baixa\n",
    "    baixa_ohlc.vbt.ohlcv.plot(\n",
    "        title=f'{simbolo} - Períodos de Tendência de Baixa'\n",
    "    ).show()"
   ]
  },
  {
   "cell_type": "markdown",
   "metadata": {},
   "source": [
    "# Resamplear em um timeframe menor, os períodos de alta e de baixa."
   ]
  },
  {
   "cell_type": "code",
   "execution_count": null,
   "metadata": {},
   "outputs": [],
   "source": [
    "# Criar dicionários para armazenar as séries\n",
    "alta_1h_dict = {}\n",
    "baixa_1h_dict = {}\n",
    "alta_24h_1h_dict = {}\n",
    "baixa_24h_1h_dict = {}\n",
    "\n",
    "for simbolo in symbols:\n",
    "    # Resample do close de 24h para 1h usando realign_closing\n",
    "    close_24_1h = h24_data.close.vbt.realign_closing(\"1h\")\n",
    "    \n",
    "    # Realinhar as máscaras para o mesmo índice do close\n",
    "    alta_mask_1h = alta_mask[simbolo].vbt.realign(\n",
    "        close_24_1h[simbolo].index,\n",
    "        ffill=True\n",
    "    )\n",
    "    baixa_mask_1h = baixa_mask[simbolo].vbt.realign(\n",
    "        close_24_1h[simbolo].index,\n",
    "        ffill=True\n",
    "    )\n",
    "    \n",
    "    # Plotar comparação dos closes\n",
    "    fig = h1_close[simbolo].rename(\"H1\").vbt.plot()\n",
    "    close_24_1h[simbolo].rename(\"H24_H1\").vbt.plot(fig=fig).show()\n",
    "    \n",
    "    # Aplicar as máscaras e armazenar nos dicionários\n",
    "    alta_24h_1h = close_24_1h[simbolo].copy()\n",
    "    alta_24h_1h[alta_mask_1h.values == False] = np.nan\n",
    "    alta_24h_1h_dict[simbolo] = alta_24h_1h\n",
    "    \n",
    "    baixa_24h_1h = close_24_1h[simbolo].copy()\n",
    "    baixa_24h_1h[baixa_mask_1h.values == False] = np.nan\n",
    "    baixa_24h_1h_dict[simbolo] = baixa_24h_1h\n",
    "    \n",
    "    # Aplicar máscaras na série H1 e armazenar\n",
    "    alta_1h = h1_close[simbolo].vbt.realign(close_24_1h[simbolo].index).copy()\n",
    "    alta_1h[alta_mask_1h.values == False] = np.nan\n",
    "    alta_1h_dict[simbolo] = alta_1h\n",
    "    \n",
    "    baixa_1h = h1_close[simbolo].vbt.realign(close_24_1h[simbolo].index).copy()\n",
    "    baixa_1h[baixa_mask_1h.values == False] = np.nan\n",
    "    baixa_1h_dict[simbolo] = baixa_1h\n",
    "    \n",
    "    # Plotar comparações\n",
    "    fig = alta_24h_1h.vbt.plot(title=f'{simbolo} - Alta (Comparação)')\n",
    "    alta_1h.vbt.plot(fig=fig, trace_kwargs=dict(line_color='gray', opacity=0.7)).show()\n",
    "    \n",
    "    fig = baixa_24h_1h.vbt.plot(title=f'{simbolo} - Baixa (Comparação)')\n",
    "    baixa_1h.vbt.plot(fig=fig, trace_kwargs=dict(line_color='gray', opacity=0.7)).show()\n",
    "\n",
    "# Agora você pode acessar as séries assim:\n",
    "print(\"\\nSéries disponíveis para cada símbolo:\")\n",
    "for simbolo in symbols:\n",
    "    print(f\"\\n{simbolo}:\")\n",
    "    print(f\"Alta 1h: {len(alta_1h_dict[simbolo])} pontos\")\n",
    "    print(f\"Baixa 1h: {len(baixa_1h_dict[simbolo])} pontos\")"
   ]
  },
  {
   "cell_type": "markdown",
   "metadata": {},
   "source": [
    "# Encontrar padrões"
   ]
  },
  {
   "cell_type": "code",
   "execution_count": 33,
   "metadata": {},
   "outputs": [],
   "source": [
    "bullish_patterns = {\n",
    "    \"double_bottom\": [5, 1, 3, 1, 5],\n",
    "    \"exp_triangle\": [3, 4, 2, 5, 1, 6],\n",
    "    \"asc_triangle\": [1, 5, 2, 5, 3, 6],\n",
    "    \"symm_triangle\": [1, 6, 2, 5, 3, 6],\n",
    "    \"pennant\": [6, 1, 5, 2, 4, 3, 6]\n",
    "}\n",
    "bearish_patterns = {\n",
    "    \"head_and_shoulders\": [1, 4, 2, 6, 2, 4, 1],\n",
    "    \"double_top\": [1, 5, 3, 5, 1],\n",
    "    \"desc_triangle\": [6, 2, 5, 2, 4, 1],\n",
    "    \"symm_triangle\": [6, 1, 5, 2, 4, 1],\n",
    "    \"pennant\": [1, 6, 2, 5, 3, 4, 1]\n",
    "}\n"
   ]
  },
  {
   "cell_type": "code",
   "execution_count": null,
   "metadata": {},
   "outputs": [],
   "source": [
    "for bull_pattern in bullish_patterns:\n",
    "    pd.Series(bullish_patterns[bull_pattern]).vbt.plot(title=f'{bull_pattern} - Padrão de Alta').show()\n",
    "\n",
    "for bear_pattern in bearish_patterns:\n",
    "    pd.Series(bearish_patterns[bear_pattern]).vbt.plot(title=f'{bear_pattern} - Padrão de Baixa').show()"
   ]
  },
  {
   "cell_type": "code",
   "execution_count": null,
   "metadata": {},
   "outputs": [],
   "source": [
    "min_window = 8\n",
    "max_window = 8 * 32\n",
    "\n",
    "def detect_patterns(patterns, price):\n",
    "    return vbt.PatternRanges.from_pattern_search(\n",
    "        price,\n",
    "        open=h1_data.open,  # OHLC for plotting\n",
    "        high=h1_data.high,\n",
    "        low=h1_data.low,\n",
    "        close=h1_data.close,\n",
    "        pattern=patterns,\n",
    "        window=min_window,\n",
    "        max_window=max_window,\n",
    "        execute_kwargs=dict(  # multithreading\n",
    "            engine=\"threadpool\", \n",
    "            chunk_len=\"auto\", \n",
    "        )\n",
    "    )\n",
    "\n",
    "alta_bullish_matches = detect_patterns(vbt.Param(bullish_patterns, name=\"bullish_pattern\"), alta_1h)\n",
    "alta_bearish_matches = detect_patterns(vbt.Param(bearish_patterns, name=\"bearish_pattern\"), alta_1h)\n",
    "\n",
    "baixa_bullish_matches = detect_patterns(vbt.Param(bullish_patterns, name=\"bullish_pattern\"), baixa_1h)\n",
    "baixa_bearish_matches = detect_patterns(vbt.Param(bearish_patterns, name=\"bearish_pattern\"), baixa_1h)"
   ]
  },
  {
   "cell_type": "code",
   "execution_count": null,
   "metadata": {},
   "outputs": [],
   "source": [
    "print(alta_bullish_matches.count())\n",
    "print(alta_bearish_matches.count())\n",
    "\n",
    "print(baixa_bullish_matches.count())\n",
    "print(baixa_bearish_matches.count())"
   ]
  },
  {
   "cell_type": "code",
   "execution_count": null,
   "metadata": {},
   "outputs": [],
   "source": [
    "vbt.settings.plotting.auto_rangebreaks = True  # for stocks\n",
    "\n",
    "alta_bull_display_column = alta_bullish_matches.count().idxmax()\n",
    "alta_bear_display_column = alta_bearish_matches.count().idxmax()\n",
    "\n",
    "baixa_bull_display_column = baixa_bullish_matches.count().idxmax()\n",
    "baixa_bear_display_column = baixa_bearish_matches.count().idxmax()\n",
    "\n",
    "\n",
    "alta_bullish_matches.plot(column=alta_bull_display_column, fit_ranges=True).show()\n",
    "alta_bearish_matches.plot(column=alta_bear_display_column, fit_ranges=True).show()\n",
    "\n",
    "baixa_bullish_matches.plot(column=baixa_bull_display_column, fit_ranges=True).show()\n",
    "baixa_bearish_matches.plot(column=baixa_bear_display_column, fit_ranges=True).show()"
   ]
  },
  {
   "cell_type": "code",
   "execution_count": 38,
   "metadata": {},
   "outputs": [],
   "source": [
    "alta_entries = alta_bullish_matches.last_pd_mask\n",
    "alta_exits = alta_bearish_matches.last_pd_mask\n",
    "\n",
    "baixa_entries = baixa_bullish_matches.last_pd_mask\n",
    "baixa_exits = baixa_bearish_matches.last_pd_mask"
   ]
  },
  {
   "cell_type": "code",
   "execution_count": null,
   "metadata": {},
   "outputs": [],
   "source": [
    "alta_entries, alta_exits = alta_entries.vbt.x(alta_exits)\n",
    "print(alta_entries.columns)\n",
    "print(alta_entries)\n",
    "\n",
    "baixa_entries, baixa_exits = baixa_entries.vbt.x(baixa_exits)\n",
    "print(baixa_entries.columns)\n",
    "print(baixa_entries)"
   ]
  },
  {
   "cell_type": "code",
   "execution_count": null,
   "metadata": {},
   "outputs": [],
   "source": [
    "# Criar dicionários para armazenar os resultados\n",
    "alta_returns = {}\n",
    "baixa_returns = {}\n",
    "\n",
    "# Iterar sobre cada combinação de padrões\n",
    "for bull_pattern in bullish_patterns:\n",
    "    for bear_pattern in bearish_patterns:\n",
    "        # Selecionar os sinais para esta combinação específica\n",
    "        alta_entries_pattern = alta_entries.loc[:, (bull_pattern, bear_pattern)].astype('bool')\n",
    "        alta_exits_pattern = alta_exits.loc[:, (bull_pattern, bear_pattern)].astype('bool')\n",
    "        \n",
    "        baixa_entries_pattern = baixa_entries.loc[:, (bull_pattern, bear_pattern)].astype('bool')\n",
    "        baixa_exits_pattern = baixa_exits.loc[:, (bull_pattern, bear_pattern)].astype('bool')\n",
    "        \n",
    "        # Criar portfolios\n",
    "        try:\n",
    "            alta_pf = vbt.Portfolio.from_signals(\n",
    "                h1_data,\n",
    "                alta_entries_pattern,\n",
    "                alta_exits_pattern,\n",
    "                freq='1h'\n",
    "            )\n",
    "            alta_returns[(bull_pattern, bear_pattern)] = alta_pf.total_return  # Removido os parênteses\n",
    "            \n",
    "            baixa_pf = vbt.Portfolio.from_signals(\n",
    "                h1_data,\n",
    "                baixa_entries_pattern,\n",
    "                baixa_exits_pattern,\n",
    "                freq='1h'\n",
    "            )\n",
    "            baixa_returns[(bull_pattern, bear_pattern)] = baixa_pf.total_return  # Removido os parênteses\n",
    "            \n",
    "        except Exception as e:\n",
    "            print(f\"Erro na combinação {bull_pattern}-{bear_pattern}: {str(e)}\")\n",
    "            continue\n",
    "\n",
    "# Converter resultados para DataFrame\n",
    "alta_returns_df = pd.DataFrame.from_dict(alta_returns, orient='index')\n",
    "baixa_returns_df = pd.DataFrame.from_dict(baixa_returns, orient='index')\n",
    "\n",
    "print(\"\\nRetornos para padrões de alta:\")\n",
    "print(alta_returns_df)\n",
    "print(\"\\nRetornos para padrões de baixa:\")\n",
    "print(baixa_returns_df)"
   ]
  },
  {
   "cell_type": "code",
   "execution_count": null,
   "metadata": {},
   "outputs": [],
   "source": [
    "min_window = 8\n",
    "max_window = 8 * 32\n",
    "\n",
    "def detect_patterns(patterns, price):\n",
    "    return vbt.PatternRanges.from_pattern_search(\n",
    "        price,\n",
    "        open=data.open,  # OHLC for plotting\n",
    "        high=data.high,\n",
    "        low=data.low,\n",
    "        close=data.close,\n",
    "        pattern=patterns,\n",
    "        window=min_window,\n",
    "        max_window=max_window,\n",
    "        execute_kwargs=dict(  # multithreading\n",
    "            engine=\"threadpool\", \n",
    "            chunk_len=\"auto\", \n",
    "        )\n",
    "    )\n",
    "\n",
    "bullish_matches = detect_patterns(vbt.Param(bullish_patterns, name=\"bullish_pattern\"))\n",
    "bearish_matches = detect_patterns(vbt.Param(bearish_patterns, name=\"bearish_pattern\"))"
   ]
  },
  {
   "cell_type": "code",
   "execution_count": null,
   "metadata": {},
   "outputs": [],
   "source": [
    "# Criar portfolios com broadcasting\n",
    "alta_pf = vbt.Portfolio.from_signals(\n",
    "    h1_data,\n",
    "    entries=alta_entries,\n",
    "    exits=alta_exits,\n",
    "    direction='longonly',\n",
    "    freq='1h',\n",
    "    broadcast_kwargs=dict(\n",
    "        columns_from=pd.MultiIndex.from_product([\n",
    "            bullish_patterns,\n",
    "            bearish_patterns\n",
    "        ], names=['bullish_pattern', 'bearish_pattern'])\n",
    "    )\n",
    ")\n",
    "\n",
    "baixa_pf = vbt.Portfolio.from_signals(\n",
    "    h1_data,\n",
    "    entries=baixa_entries,\n",
    "    exits=baixa_exits,\n",
    "    direction='shortonly',\n",
    "    freq='1h',\n",
    "    broadcast_kwargs=dict(\n",
    "        columns_from=pd.MultiIndex.from_product([\n",
    "            bullish_patterns,\n",
    "            bearish_patterns\n",
    "        ], names=['bullish_pattern', 'bearish_pattern'])\n",
    "    )\n",
    ")\n",
    "\n",
    "# Calcular médias por padrão\n",
    "alta_mean_return = alta_pf.total_return.groupby([\"bullish_pattern\", \"bearish_pattern\"]).mean()\n",
    "baixa_mean_return = baixa_pf.total_return.groupby([\"bullish_pattern\", \"bearish_pattern\"]).mean()\n",
    "\n",
    "# Plotar heatmaps\n",
    "alta_mean_return.vbt.heatmap(\n",
    "    title='Retornos dos Padrões de Alta',\n",
    "    trace_kwargs=dict(\n",
    "        xaxis_title='Padrão de Baixa',\n",
    "        yaxis_title='Padrão de Alta'\n",
    "    )\n",
    ").show()\n",
    "\n",
    "baixa_mean_return.vbt.heatmap(\n",
    "    title='Retornos dos Padrões de Baixa',\n",
    "    trace_kwargs=dict(\n",
    "        xaxis_title='Padrão de Baixa',\n",
    "        yaxis_title='Padrão de Alta'\n",
    "    )\n",
    ").show()"
   ]
  },
  {
   "cell_type": "code",
   "execution_count": null,
   "metadata": {},
   "outputs": [],
   "source": [
    "alta_mean_total_return = alta_pf.total_return.groupby([\"bullish_pattern\", \"bearish_pattern\"]).mean()\n",
    "baixa_mean_total_return = baixa_pf.total_return.groupby([\"bullish_pattern\", \"bearish_pattern\"]).mean()\n",
    "\n",
    "print(alta_mean_total_return)\n",
    "print(baixa_mean_total_return)"
   ]
  },
  {
   "cell_type": "code",
   "execution_count": null,
   "metadata": {},
   "outputs": [],
   "source": [
    "# Converter os dicionários para DataFrames com índices adequados\n",
    "alta_returns_df.index = pd.MultiIndex.from_tuples(alta_returns_df.index, names=['bullish_pattern', 'bearish_pattern'])\n",
    "baixa_returns_df.index = pd.MultiIndex.from_tuples(baixa_returns_df.index, names=['bullish_pattern', 'bearish_pattern'])\n",
    "\n",
    "# Criar heatmaps\n",
    "alta_returns_df.unstack().vbt.heatmap(\n",
    "    title='Retornos dos Padrões de Alta',\n",
    "    x_label='Padrão de Baixa',\n",
    "    y_label='Padrão de Alta'\n",
    ").show()\n",
    "\n",
    "baixa_returns_df.unstack().vbt.heatmap(\n",
    "    title='Retornos dos Padrões de Baixa',\n",
    "    x_label='Padrão de Baixa',\n",
    "    y_label='Padrão de Alta'\n",
    ").show()\n",
    "\n",
    "# Opcional: mostrar também os valores numéricos\n",
    "print(\"\\nRetornos dos Padrões de Alta:\")\n",
    "print(alta_returns_df.unstack())\n",
    "print(\"\\nRetornos dos Padrões de Baixa:\")\n",
    "print(baixa_returns_df.unstack())"
   ]
  }
 ],
 "metadata": {
  "kernelspec": {
   "display_name": "Python 3 (ipykernel)",
   "language": "python",
   "name": "python3"
  },
  "language_info": {
   "codemirror_mode": {
    "name": "ipython",
    "version": 3
   },
   "file_extension": ".py",
   "mimetype": "text/x-python",
   "name": "python",
   "nbconvert_exporter": "python",
   "pygments_lexer": "ipython3",
   "version": "3.12.5"
  }
 },
 "nbformat": 4,
 "nbformat_minor": 2
}
